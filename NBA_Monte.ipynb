{
 "cells": [
  {
   "cell_type": "code",
   "execution_count": null,
   "id": "2db4cd2d",
   "metadata": {},
   "outputs": [],
   "source": [
    "import pandas as pd \n",
    "import random as rnd\n",
    "import numpy as np \n",
    "from numpy import average\n",
    "import matplotlib.pyplot as plt"
   ]
  },
  {
   "cell_type": "code",
   "execution_count": null,
   "id": "92f03404",
   "metadata": {},
   "outputs": [],
   "source": [
    "# scrape most recent gamelog/adjust date as needed"
   ]
  },
  {
   "cell_type": "code",
   "execution_count": null,
   "id": "e425a20f",
   "metadata": {},
   "outputs": [],
   "source": [
    "a_gamelog = pd.read_html('https://www.basketball-reference.com/teams/MEM/2023/gamelog/', header = 1)\n",
    "a_gamelog = a_gamelog[0]"
   ]
  },
  {
   "cell_type": "code",
   "execution_count": null,
   "id": "d76e4c7e",
   "metadata": {},
   "outputs": [],
   "source": [
    "a_gamelog =  a_gamelog.rename(columns = {'Unnamed: 3': 'A/H',\n",
    "                                         'Tm': 'Tm_PTS',\n",
    "                                         'Opp.1': 'Opp_PTS',\n",
    "                                         '3PA': 'Three_FGA',\n",
    "                                         '3PA.1': 'OThree_FGA'})"
   ]
  },
  {
   "cell_type": "code",
   "execution_count": null,
   "id": "168cc398",
   "metadata": {},
   "outputs": [],
   "source": [
    "a_gamelog['A/H'] = a_gamelog['A/H'].replace(np.nan, 'H')\n",
    "a_gamelog = a_gamelog.replace({'@':'A'})"
   ]
  },
  {
   "cell_type": "code",
   "execution_count": null,
   "id": "9cb82a88",
   "metadata": {},
   "outputs": [],
   "source": [
    "a_gamelog = a_gamelog.drop(labels = [ 20,21], axis = 0)"
   ]
  },
  {
   "cell_type": "code",
   "execution_count": null,
   "id": "eb860922",
   "metadata": {},
   "outputs": [],
   "source": [
    "h_gamelog = pd.read_html('https://www.basketball-reference.com/teams/ORL/2023/gamelog/', header = 1)\n",
    "h_gamelog = h_gamelog[0]"
   ]
  },
  {
   "cell_type": "code",
   "execution_count": null,
   "id": "86552779",
   "metadata": {},
   "outputs": [],
   "source": [
    "h_gamelog =  h_gamelog.rename(columns = {'Unnamed: 3': 'A/H',\n",
    "                                         'Tm': 'Tm_PTS',\n",
    "                                         'Opp.1': 'Opp_PTS',\n",
    "                                         '3PA': 'Three_FGA',\n",
    "                                         '3PA.1': 'OThree_FGA'})"
   ]
  },
  {
   "cell_type": "code",
   "execution_count": null,
   "id": "99c08387",
   "metadata": {},
   "outputs": [],
   "source": [
    "h_gamelog['A/H'] = h_gamelog['A/H'].replace(np.nan, 'H')\n",
    "h_gamelog = h_gamelog.replace({'@':'A'})"
   ]
  },
  {
   "cell_type": "code",
   "execution_count": null,
   "id": "033f8318",
   "metadata": {},
   "outputs": [],
   "source": [
    "h_gamelog = h_gamelog.drop(labels = [20,21])"
   ]
  },
  {
   "cell_type": "code",
   "execution_count": null,
   "id": "231a8ea6",
   "metadata": {},
   "outputs": [],
   "source": [
    "#filters out all stat data except that within specified date\n",
    "\n",
    "\n",
    "a_gamelog.date = a_gamelog.Date.apply(lambda x: pd.to_datetime(x, format = '%Y-%m-%d', errors = 'ignore'))\n",
    "a_gamelog_last = a_gamelog.loc[a_gamelog['Date'].between('2022-12-24', '2023-12-04')]\n",
    "\n",
    "h_gamelog.date = h_gamelog.Date.apply(lambda x : pd.to_datetime(x, format = '%Y-%m-%d', errors = 'ignore'))\n",
    "h_gamelog_last = h_gamelog.loc[h_gamelog['Date'].between('2022-12-24', '2023-12-04')]\n"
   ]
  },
  {
   "cell_type": "code",
   "execution_count": null,
   "id": "ffed48de",
   "metadata": {},
   "outputs": [],
   "source": [
    "# histogram\n",
    "\n",
    "a_gamelog_last['Tm_PTS'].hist(bins = 5, edgecolor = 'black')"
   ]
  },
  {
   "cell_type": "code",
   "execution_count": null,
   "id": "c8cb3f4a",
   "metadata": {},
   "outputs": [],
   "source": [
    "# AWAY OFFENSE\n",
    "\n",
    "ao_gamelog_dist = a_gamelog['Tm_PTS'].astype(str).astype(int)\n",
    "ao_gamelog_weights = a_gamelog_last['Tm_PTS'].astype(str).astype(int)\n",
    "\n",
    "\n",
    "def a_weight_average_o(ao_gamelog_dist, ao_gamelog_weights):\n",
    "    \n",
    "    weighted_sum = []\n",
    "    \n",
    "    for Tm_PTS, weight in zip(ao_gamelog_dist, ao_gamelog_weights):\n",
    "        weighted_sum.append(Tm_PTS * weight)\n",
    "        \n",
    "    return round(sum(weighted_sum)/sum(ao_gamelog_weights))     \n",
    "\n",
    "# AWAY DEFENSE\n",
    "\n",
    "ad_gamelog_dist = a_gamelog['Opp_PTS'].astype(str).astype(int)\n",
    "ad_gamelog_weights = a_gamelog_last['Opp_PTS'].astype(str).astype(int)\n",
    "\n",
    "def a_weight_average_d(ad_gamelog_dist, ad_gamelog_weights):\n",
    "    \n",
    "    weighted_sum= []\n",
    "    \n",
    "    for Opp_PTS, weight in zip(ad_gamelog_dist, ad_gamelog_weights):\n",
    "        weighted_sum.append(Opp_PTS * weight)\n",
    "        \n",
    "    return round(sum(weighted_sum)/sum(ad_gamelog_weights)) \n",
    "\n",
    "a_gamelog_last_std = ao_gamelog_weights.std()"
   ]
  },
  {
   "cell_type": "code",
   "execution_count": null,
   "id": "d5863a5e",
   "metadata": {},
   "outputs": [],
   "source": [
    "# HOME OFFENSE \n",
    "\n",
    "ho_gamelog_dist = h_gamelog['Tm_PTS'].astype(str).astype(int)\n",
    "ho_gamelog_weights = h_gamelog_last['Tm_PTS'].astype(str).astype(int)\n",
    "\n",
    "def h_weight_average_o(ho_gamelog_dist, ho_gamelog_weights):\n",
    "    \n",
    "    weighted_sum= []\n",
    "    \n",
    "    for Tm_PTS, weight in zip(ho_gamelog_dist, ho_gamelog_weights):\n",
    "        weighted_sum.append(Tm_PTS * weight)\n",
    "        \n",
    "    return round(sum(weighted_sum)/sum(ho_gamelog_weights))  \n",
    "                 \n",
    "\n",
    "# HOME DEFENSE\n",
    "\n",
    "hd_gamelog_dist = h_gamelog['Opp_PTS'].astype(str).astype(int)\n",
    "hd_gamelog_weights = h_gamelog_last['Opp_PTS'].astype(str).astype(int)\n",
    "\n",
    "def h_weight_average_d(hd_gamelog_dist, hd_gamelog_weights):\n",
    "    \n",
    "    weighted_sum= []\n",
    "    std = []\n",
    "    \n",
    "    for Opp_PTS, weight in zip(hd_gamelog_dist, hd_gamelog_weights):\n",
    "        weighted_sum.append(Opp_PTS * weight)\n",
    "        \n",
    "    return round(sum(weighted_sum)/sum(hd_gamelog_weights)) \n",
    "\n"
   ]
  },
  {
   "cell_type": "code",
   "execution_count": null,
   "id": "4c7c9bea",
   "metadata": {},
   "outputs": [],
   "source": [
    "print('Away wOff Points', a_weight_average_o(ao_gamelog_dist, ao_gamelog_weights))\n",
    "print('Away wDef Points', a_weight_average_d(ad_gamelog_dist, ad_gamelog_weights))\n",
    "print('Away wOFF StDv', ao_gamelog_dist.std())\n",
    "print('Away wDef StDv', ad_gamelog_dist.std())\n",
    "print('Away wOFF StDv', ao_gamelog_weights.std())\n",
    "print('Away wDef StDv', ad_gamelog_weights.std())\n",
    "print()\n",
    "print('Home wOff Points', h_weight_average_o(ho_gamelog_dist, ho_gamelog_weights))\n",
    "print('Home wDef Points', h_weight_average_d(hd_gamelog_dist, hd_gamelog_weights))\n",
    "print('Home wOFF StDv', ho_gamelog_dist.std())\n",
    "print('Home wDef StDv', hd_gamelog_dist.std())\n",
    "print('Home wOFF StDv', ho_gamelog_weights.std())\n",
    "print('Home wDef StDv', hd_gamelog_weights.std())"
   ]
  },
  {
   "cell_type": "code",
   "execution_count": null,
   "id": "4a078c7b",
   "metadata": {},
   "outputs": [],
   "source": [
    "aopts = 120\n",
    "adpts = 121\n",
    "aostd = 5.1\n",
    "adstd = 10.7\n",
    "\n",
    "\n",
    "\n",
    "hopts = 118\n",
    "hdpts = 116\n",
    "hostd = 6.6\n",
    "hdstd = 6.3\n",
    "\n",
    "\n",
    "def gameSim():\n",
    "    a_score = (rnd.gauss(aopts, aostd) + rnd.gauss(hdpts, hdstd))/2\n",
    "    h_score = (rnd.gauss(hopts, hostd) + rnd.gauss(adpts, adstd))/2\n",
    "    \n",
    "    if int(round(a_score)) > int(round(h_score)):\n",
    "        return 'away'\n",
    "    elif int(round(a_score)) < int(round(h_score)):\n",
    "        return 'home'\n",
    "    else: return 0\n",
    "\n",
    "\n"
   ]
  },
  {
   "cell_type": "code",
   "execution_count": null,
   "id": "a500dea1",
   "metadata": {},
   "outputs": [],
   "source": [
    "# Here we can run the sim a defined number of times. '(ns)' = number of simulations\n",
    "\n",
    "def gamesSim(ns):\n",
    "    games = []\n",
    "    a_win = 0\n",
    "    h_win = 0\n",
    "    tie = 0\n",
    "    \n",
    "    for i in range(ns):\n",
    "        gm = gameSim()\n",
    "        games.append(gm)\n",
    "        if gm == 'away':\n",
    "            a_win +=1\n",
    "        elif gm == 'home':\n",
    "            h_win +=1\n",
    "        else: tie += 1\n",
    "        \n",
    "               \n",
    "    print('AW', a_win/(a_win + h_win), '%')\n",
    "    print('HW', h_win/(a_win + h_win), '%')\n",
    "    print('T', tie/(a_win + h_win), '%')\n",
    "            \n",
    "    \n",
    "    return games"
   ]
  },
  {
   "cell_type": "code",
   "execution_count": null,
   "id": "a5a77c88",
   "metadata": {},
   "outputs": [],
   "source": [
    "gamesSim(100000)"
   ]
  },
  {
   "cell_type": "code",
   "execution_count": null,
   "id": "fca22174",
   "metadata": {},
   "outputs": [],
   "source": [
    "# Totals sim"
   ]
  },
  {
   "cell_type": "code",
   "execution_count": null,
   "id": "c0926d51",
   "metadata": {},
   "outputs": [],
   "source": [
    "def gameTotal():\n",
    "    a_scoret = (rnd.gauss(aopts, aostd) + rnd.gauss(hdpts, hdstd))/2\n",
    "    h_scoret = (rnd.gauss(hopts, hostd) + rnd.gauss(adpts, adstd))/2\n",
    "    \n",
    "    if int(round(h_scoret)) + int(round(a_scoret)) > 236:\n",
    "        return 'over'\n",
    "    elif int(round(h_scoret)) + int(round(a_scoret)) < 236:\n",
    "        return 'under'\n",
    "    elif int(round(a_scoret)) + int(round(h_scoret)) == 236:\n",
    "        return 'push'"
   ]
  },
  {
   "cell_type": "code",
   "execution_count": null,
   "id": "da36f397",
   "metadata": {},
   "outputs": [],
   "source": [
    "def gameSimTotal(ns):\n",
    "    gametotal = []\n",
    "    over = 0\n",
    "    under = 0\n",
    "    push = 0\n",
    "    \n",
    "    for t in range(ns):\n",
    "        gmtot = gameTotal()\n",
    "        gametotal.append(gmtot)\n",
    "        if gmtot == 'over':\n",
    "            over +=1 \n",
    "        elif gmtot == 'under':\n",
    "            under +=1\n",
    "        elif gmtot == 'push':\n",
    "            push +=1\n",
    "    \n",
    "    print('o', over/100000, '%')\n",
    "    print('u', under/100000, '%')\n",
    "    print('p', push/100000, '%')\n",
    "        \n",
    "    return gametotal"
   ]
  },
  {
   "cell_type": "code",
   "execution_count": null,
   "id": "97e6c2f6",
   "metadata": {},
   "outputs": [],
   "source": [
    "gameSimTotal(100000)"
   ]
  },
  {
   "cell_type": "code",
   "execution_count": null,
   "id": "1cd6ba50",
   "metadata": {},
   "outputs": [],
   "source": [
    "# Spread Sim"
   ]
  },
  {
   "cell_type": "code",
   "execution_count": null,
   "id": "9520f22b",
   "metadata": {},
   "outputs": [],
   "source": [
    "# Remember to change variable for fav/dog\n",
    "\n",
    "def gameSimSpread():\n",
    "    a_spread = (rnd.gauss(aopts, aostd) + rnd.gauss(hopts, hostd))/2\n",
    "    h_spread = (rnd.gauss(hopts, hostd) + rnd.gauss(aopts, aostd))/2\n",
    "    if int(round(a_spread)) - int(round(h_spread)) > 8:\n",
    "        return 1\n",
    "    elif int(round(a_spread)) - int(round(h_spread)) < 8:\n",
    "        return -1\n",
    "    else: return 0"
   ]
  },
  {
   "cell_type": "code",
   "execution_count": null,
   "id": "856e8843",
   "metadata": {},
   "outputs": [],
   "source": [
    "def gamesSimSpread(ns):\n",
    "    gamesspread = []\n",
    "    f_cover = 0\n",
    "    d_cover = 0\n",
    "    push = 0\n",
    "    for i in range(ns):\n",
    "        gmsp = gameSimSpread()\n",
    "        gamesspread.append(gmsp)\n",
    "        if gmsp == 1:\n",
    "            f_cover += 1\n",
    "        elif gmsp == -1:\n",
    "            d_cover +=1\n",
    "        else: push += 0\n",
    "   \n",
    "    print('Fav',f_cover/100000,'%')\n",
    "    print('Dog', d_cover/100000,'%')\n",
    "    print('Push',push/100000, '%')\n",
    "\n",
    "    return gamesspread\n",
    "\n",
    "gamesSimSpread(100000)"
   ]
  },
  {
   "cell_type": "code",
   "execution_count": null,
   "id": "0ec04d7e",
   "metadata": {},
   "outputs": [],
   "source": [
    "# Refs"
   ]
  },
  {
   "cell_type": "code",
   "execution_count": null,
   "id": "b9f6de21",
   "metadata": {},
   "outputs": [],
   "source": [
    "refs = pd.read_html('https://www.basketball-reference.com/referees/2023_register.html', header = 1)\n",
    "refs = refs[0]\n",
    "refs = pd.DataFrame(refs)\n",
    "\n",
    "refs.set_index('Referee')\n",
    "refs = refs.rename(columns = {'PTS.3': 'Away_PTS', 'PTS.2': 'Home_PTS',\n",
    "                              'PF.3': 'Away_PF', 'PF.2':'Home_PF',\n",
    "                             'PF':'Total_PF'})\n",
    "\n",
    "referees = refs.loc[(refs['Referee'] == 'Bill Kennedy') | \n",
    "         (refs['Referee'] == 'JB DeRosa')|\n",
    "         (refs['Referee'] == 'Johnathan Sterling')]\n",
    "\n",
    "print(referees[['PTS','Away_PTS', 'Home_PTS', 'Away_PF', 'Home_PF', 'Total_PF']].mean())\n",
    "print(referees[['PTS','Away_PTS', 'Home_PTS', 'Away_PF', 'Home_PF', 'Total_PF']].median())\n",
    "\n",
    "\n",
    "plt.show()"
   ]
  },
  {
   "cell_type": "code",
   "execution_count": null,
   "id": "ff42ad16",
   "metadata": {},
   "outputs": [],
   "source": [
    "# histogram of points scored by each team \n",
    "#away = blue, home = orange\n",
    "a_gamelog_last.Tm_PTS.hist(color = 'lightblue')\n",
    "#h_gamelog_last.Tm_PTS.hist(color = 'wheat')\n",
    "h_gamelog_last.Opp_PTS.hist(color = 'blue')\n",
    "#_gamelog_last.Tm_PTS.hist(color = 'orange')"
   ]
  },
  {
   "cell_type": "code",
   "execution_count": null,
   "id": "de1770e1",
   "metadata": {},
   "outputs": [],
   "source": []
  },
  {
   "cell_type": "code",
   "execution_count": null,
   "id": "6c8cb616",
   "metadata": {},
   "outputs": [],
   "source": []
  }
 ],
 "metadata": {
  "kernelspec": {
   "display_name": "Python 3 (ipykernel)",
   "language": "python",
   "name": "python3"
  },
  "language_info": {
   "codemirror_mode": {
    "name": "ipython",
    "version": 3
   },
   "file_extension": ".py",
   "mimetype": "text/x-python",
   "name": "python",
   "nbconvert_exporter": "python",
   "pygments_lexer": "ipython3",
   "version": "3.9.12"
  }
 },
 "nbformat": 4,
 "nbformat_minor": 5
}
